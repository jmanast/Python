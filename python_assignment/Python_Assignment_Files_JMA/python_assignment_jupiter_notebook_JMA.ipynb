{
 "cells": [
  {
   "cell_type": "markdown",
   "metadata": {},
   "source": [
    "# Python Project Start\n",
    " I will start by examining the peguins_translate.py document using Atom to view. \n",
    " \n"
   ]
  },
  {
   "cell_type": "code",
   "execution_count": 3,
   "metadata": {
    "collapsed": true
   },
   "outputs": [],
   "source": [
    "from Bio import SeqIO\n",
    "from Bio.Data import CodonTable\n",
    "import pandas as pd\n",
    "from Bio.Alphabet import IUPAC\n",
    "from Bio.Seq import Seq\n",
    "from Bio.SeqUtils.ProtParam import ProteinAnalysis\n",
    "import matplotlib.pyplot as plt\n",
    "import seaborn as sns\n",
    "import numpy as np\n",
    "import seaborn as sns\n",
    "from Bio.Alphabet import generic_dna"
   ]
  },
  {
   "cell_type": "markdown",
   "metadata": {
    "collapsed": true
   },
   "source": [
    "the Code Block above I chose to fill with all the packages I wanted to import to run all code"
   ]
  },
  {
   "cell_type": "markdown",
   "metadata": {},
   "source": [
    "# Part 1: The code block bellow comes from part  1 of Dr. X's assignment where I annotated the function\n",
    "I describe bellow what each command and function does but here I will explain a summary of the function.\n",
    "This function will take in a file with multiple fasta entries and create a dictionary that takes the first and second words (so in this case Genus, Speices respectively) and assign that as the keys to the dictionary and then will assign the respective sequences only as a Seq object matched to that key.\n"
   ]
  },
  {
   "cell_type": "code",
   "execution_count": 4,
   "metadata": {
    "collapsed": true
   },
   "outputs": [],
   "source": [
    "def get_sequences_from_file(fasta_fn): #here we are ignitiating the function get_sequence_from_file on what we define (fasta_fn)\n",
    "    sequence_data_dict = {}    #here we are creating a dictionary to hold keys and objects\n",
    "    for record in SeqIO.parse(fasta_fn, \"fasta\"):   #here is our for loop that will extract elements from fasta_fn \n",
    "        #and we are telling it that it is a fasta file\n",
    "  #SeqIO.parce = Sequence input/output as SeqRecord objects seperately.    \n",
    "        description = record.description.split()#here the description provided by the FASTA file \n",
    "    #is split into peices (recognized because of biopython description option), \n",
    "       #the defulat split will split by white spaces, giving every string an index\n",
    "        species_name = description[1] + \" \" + description[2] #here you are assigning species name \n",
    "        #to be description [1] (not index 0 because that includes the > and an id) + \"white space\" + Description [2], \n",
    "        # since its zero indexed you do not take >id#\n",
    "        sequence_data_dict[species_name] = record.seq  #here you are setting species_name as the key \n",
    "        #to dictionary, and that will return you that records sequence\n",
    "    return(sequence_data_dict)  #this will return the output of the for loop to the Dictionary \n",
    "# and the loop will continue through\n",
    "# each \"parsed record\"\n",
    "\n",
    "\n",
    "\n"
   ]
  },
  {
   "cell_type": "code",
   "execution_count": 5,
   "metadata": {
    "collapsed": true
   },
   "outputs": [],
   "source": [
    "cytb_seqs = get_sequences_from_file(\"penguins_cytb.fasta\") # I wanted to test that the function get_sequences_from_file did\n",
    "# what I thought it would do by testing it and then viewing it with the .fasta file."
   ]
  },
  {
   "cell_type": "code",
   "execution_count": 6,
   "metadata": {
    "scrolled": true
   },
   "outputs": [
    {
     "data": {
      "text/plain": [
       "{'Aptenodytes forsteri': Seq('ATGGCCCCAAATCTCCGAAAATCCCATCCCCTCCTAAAAATAATTAATAACTCC...TAA', SingleLetterAlphabet()),\n",
       " 'Aptenodytes patagonicus': Seq('ATGGCCCCAAACCTCCGAAAATCCCATCCTCTCCTAAAAATAATTAATAACTCC...TAA', SingleLetterAlphabet()),\n",
       " 'Eudyptes chrysocome': Seq('ATGGCCCCCAACCTCCGAAAATCCCACCCCCTCCTAAAAACAATCAATAACTCC...TAA', SingleLetterAlphabet()),\n",
       " 'Eudyptes chrysolophus': Seq('ATGGCCCCCAACCTCCGAAAATCCCACCCCCTCCTAAAAACAATCAATAACTCC...TAA', SingleLetterAlphabet()),\n",
       " 'Eudyptes sclateri': Seq('ATGGCCCCCAACCTCCGAAAATCCCACCCCCTCCTAAAAACAATCAATAACTCC...TAA', SingleLetterAlphabet()),\n",
       " 'Eudyptula minor': Seq('ATGGCCCCCAACCTCCGAAAATCTCACCCCCTCCTAAAAATAATCAACAACTCT...TAA', SingleLetterAlphabet()),\n",
       " 'Pygoscelis adeliae': Seq('ATGGCCCCCAACCTCCGAAAATCCCACCCTCTCCTAAAAATAATTAACAACTCC...TAA', SingleLetterAlphabet()),\n",
       " 'Pygoscelis antarctica': Seq('ATGGCCCCCAACCTCCGAAAATCCCACCCTCTCCTAAAAATAATCAACAACTCC...TAG', SingleLetterAlphabet()),\n",
       " 'Pygoscelis papua': Seq('ATGGCCCCCAACCTTCGAAAATCCCACCCTCTCCTAAAAATAATCAACAAATCC...TAG', SingleLetterAlphabet()),\n",
       " 'Spheniscus demersus': Seq('ATGGCCCCCAACCTCCGAAAATCCCACCCTCTCCTAAAAACAATCAACAACTCC...TAA', SingleLetterAlphabet()),\n",
       " 'Spheniscus humboldti': Seq('ATGGCCCCCAACCTCCGAAAATCCCACCCTCTCCTAAAAACAATCAACAACTCC...TAA', SingleLetterAlphabet()),\n",
       " 'Spheniscus magellanicus': Seq('ATGGCCCCCAACCTCCGAAAATCCCACCCTCTCCTAAAAACAATCAACAACTCC...TAA', SingleLetterAlphabet())}"
      ]
     },
     "execution_count": 6,
     "metadata": {},
     "output_type": "execute_result"
    }
   ],
   "source": [
    "cytb_seqs # the output is the new dictionary with Genus/Species as the keys to the Seq objects that have the respective sequences"
   ]
  },
  {
   "cell_type": "markdown",
   "metadata": {},
   "source": [
    "## Part 2 of the assignment##\n",
    "####### YOUR STRING-TRANSLATE FUNCTION ########                                                                                 \n",
    "Bellow is my function that will take in a string of nucleotides and translate that DNA string into amino acid primary sequence. First it assigns mito_table to mean the imported\n",
    "CodonTable.unambiguous_dna_by_name[\"Vertebrate Mitochondrial\"]\n",
    "table. You then assign aa_string to be an empty string. A for loop than assigns bases to   \n",
    "codons that then match with the Vertebrate Mitochondrial table until the sequence reaces a stop codon. Taking a DNA string and giving you the protien sequence."
   ]
  },
  {
   "cell_type": "code",
   "execution_count": 7,
   "metadata": {
    "collapsed": true
   },
   "outputs": [],
   "source": [
    "\n",
    "def Translate(string_nucleotides):\n",
    "    mito_table = CodonTable.unambiguous_dna_by_name[\"Vertebrate Mitochondrial\"] # this should work using BioPython (be sure to check what this returns)\n",
    "    aa_string = \"\" #initiating aa_string to be an empty string\n",
    "    for base in range(0,int(len(string_nucleotides)),3): # a for loop runing through the entire lenght of the string but steping every fourth base\n",
    "        codon = string_nucleotides[base:base + 3] # next step we take that base of the string plus the next two bases and define that as a codon\n",
    "        if codon in mito_table.stop_codons: # a for loop to check if each incoming codon is a stop codon, if it is it will stop the main for \n",
    "        #loop and return the sequence before the stop codon by defualt\n",
    "             return aa_string\n",
    "        aa_string = aa_string + mito_table.forward_table[codon] #telling that each codon match should be added to the string above\n",
    "    return aa_string #returning the entire string to the aa_string holder"
   ]
  },
  {
   "cell_type": "markdown",
   "metadata": {
    "collapsed": true
   },
   "source": [
    "## Part 3 of Dr. X's code assignment\n",
    "####### YOUR ALTERNATIVE FUNCTION ########\n",
    "## Is there a better way to write the translation function? (Hint: yes there is.) \n",
    "## Perhaps using available BioPython library utilities?\n",
    "## Please also write this function."
   ]
  },
  {
   "cell_type": "code",
   "execution_count": 199,
   "metadata": {
    "collapsed": true
   },
   "outputs": [],
   "source": [
    "# Biopython's .translate is a good utility to highlight here. I wrote it in as a function incase I chose to use\n",
    "# this one I found on the biopython wiki cite\n",
    "def biotranslate(string_nucleotides):\n",
    "    aa_string = string_nucleotides.translate(table=2, to_stop=True) # http://biopython.org/wiki/Seq\n",
    "    return aa_string #this function .translate is a biopython method that translates a string of nucleotides into amino acid\n",
    "#sequence, I then set arguments of this method, table = 2 is assigning the function to the correct vertibrate codon table and its stops codons. \n",
    "# to_stop=TRUE is telling the method to stop translating the string up intil the stop codon that is defined by biopython.   "
   ]
  },
  {
   "cell_type": "markdown",
   "metadata": {
    "collapsed": true
   },
   "source": [
    "## part 4 of assignment\n",
    "####### YOUR COUNT AA ANALYSIS FUNCTION ########\n",
    "## Write a function that calculates the molecular weight of each amino acid sequence."
   ]
  },
  {
   "cell_type": "code",
   "execution_count": 8,
   "metadata": {
    "collapsed": true
   },
   "outputs": [],
   "source": [
    "# this function will take an amino acid sequence string and use a bio python method ProteinAnalysis to assign information about\n",
    "# aa string's amino acids. The method .molecular_weight() will return the sum of the weights of the amino acids in the string of aa.\n",
    "\n",
    "def compute_molecular_weight(aa_string):\n",
    "    analysed_seq = ProteinAnalysis(aa_string)\n",
    "    analysed_seq_mw = analysed_seq.molecular_weight()\n",
    "    return analysed_seq_mw\n"
   ]
  },
  {
   "cell_type": "markdown",
   "metadata": {},
   "source": [
    "## Part 5 of assignment\n",
    "####### YOUR GC CONTENT ANALYSIS FUNCTION ########\n",
    "## Write a function that calculates the GC-content (proportion of \"G\" and \"C\") of each DNA sequence and returns this value."
   ]
  },
  {
   "cell_type": "code",
   "execution_count": 2,
   "metadata": {
    "collapsed": true
   },
   "outputs": [],
   "source": [
    "def Calc_GC_Percent(string_nucleotides):\n",
    "        gc_count = string_nucleotides.count(\"G\") + string_nucleotides.count(\"C\") # counts all the G's and C's and sums up the number of occurences in the string\n",
    "        gc_fraction = int(gc_count) / len(string_nucleotides) #reads gc_count as an interager and devides it by the length of the entire sequence\n",
    "        gc_percent = 100 * gc_fraction #takes the gc_fraction decimal and multiplies by 100 to return the percent\n",
    "        return gc_percent\n"
   ]
  },
  {
   "cell_type": "markdown",
   "metadata": {},
   "source": [
    "### Parts 6-10 of Dr. X python assingment\n",
    "I included parts 6-10 in this code block because in the directions penguins_translate.py it said to include them in the main part of the script"
   ]
  },
  {
   "cell_type": "code",
   "execution_count": 25,
   "metadata": {},
   "outputs": [
    {
     "name": "stderr",
     "output_type": "stream",
     "text": [
      "C:\\Users\\jmanast.IASTATE\\AppData\\Local\\Continuum\\anaconda3\\lib\\site-packages\\Bio\\Seq.py:152: BiopythonWarning: Biopython Seq objects now use string comparison. Older versions of Biopython used object comparison. During this transition, please use hash(id(my_seq)) or my_dict[id(my_seq)] if you want the old behaviour, or use hash(str(my_seq)) or my_dict[str(my_seq)] for the new string hashing behaviour.\n",
      "  \"the new string hashing behaviour.\", BiopythonWarning)\n",
      "C:\\Users\\jmanast.IASTATE\\AppData\\Local\\Continuum\\anaconda3\\lib\\site-packages\\seaborn\\categorical.py:1460: FutureWarning: remove_na is deprecated and is a private function. Do not use.\n",
      "  stat_data = remove_na(group_data)\n"
     ]
    },
    {
     "data": {
      "image/png": "[encoded data removed]",
      "text/plain": [
       "<matplotlib.figure.Figure at 0x15a8f2e8>"
      ]
     },
     "metadata": {},
     "output_type": "display_data"
    },
    {
     "data": {
      "image/png": "[encoded data removed]",
      "text/plain": [
       "<matplotlib.figure.Figure at 0x15e9b400>"
      ]
     },
     "metadata": {},
     "output_type": "display_data"
    }
   ],
   "source": [
    "#%%%%%%%%%%%%%%#           I included parts 6-10 in this code block because in the directions penguins_translate.py it                                                                              \n",
    "###   MAIN   ###           said to include in the main part of the script\n",
    "#%%%%%%%%%%%%%%#           \n",
    "\n",
    "\n",
    "cytb_seqs = get_sequences_from_file(\"penguins_cytb.fasta\") #running penguins_cytb.fasta through the above described function get_sequences_from_file\n",
    "penguins_df = pd.read_csv(\"penguins_mass.csv\") # this reads penguins_mass.csv in as a csv to panda data frame named penguins_df\n",
    "species_list = list(penguins_df.species) #extracting the species entries of the penguins_df with .speices and making that a list name species_list to be used later\n",
    "\n",
    "\n",
    "\n",
    "## 6 part of Dr. X's code assignment## \n",
    "## Add two new columns to the penguin DataFrame: (1) molecular weight and (2) GC content.\n",
    "## Set the value to 'NaN' to indicate that these cells are currently empty.\n",
    "\n",
    "#my code:\n",
    "penguins_MW_df = penguins_df.assign(Molecular_weight = 'NaN') # this is using the .assign to add a column called Molecular_weight with all rows filled with NaN to the dataframe\n",
    "penguins_new_columns_df = penguins_MW_df.assign(GC_content = 'NaN') # this is using the .assign to add an aditional column called GC_content with all rows filled with NaN to the dataframe\n",
    "\n",
    "# https://chrisalbon.com/python/pandas_assign_new_column_dataframe.html\n",
    "\n",
    "\n",
    "\n",
    "\n",
    "\n",
    "## 7 part of the Dr. X's code assignment##\n",
    "## Write a for-loop that translates each sequence and also gets molecular weight and computes the GC content\n",
    "## of each translated sequence and adds those data to DataFrame\n",
    "# for key, value in cytb_seqs.items():\n",
    "#     aa_seq = nuc2aa_translate_function(value) # whichever function you prefer of #2 or #3\n",
    "#     get the molecular weight of aa_seq\n",
    "#     get the GC content of the DNA sequence\n",
    "#     fill in empty cells in DF that you created above\n",
    "\n",
    "\n",
    "#start of my code for part 7 of assignment:\n",
    "\n",
    "all_GC = []    #creating an empty list holder called all_GC\n",
    "all_MW = []    #creating an empty list holder called all_MW\n",
    "\n",
    "for key, value in cytb_seqs.items(): # a for loop that runs through each key/calue in my dictionary cytb_seqs. .items()  returns a list of dict's (key, value) tuple pairs (https://www.tutorialspoint.com/python/dictionary_items.htm)\n",
    "    aa_string = Translate(value) #runs each value(matches a sequence string) through the above Translate function ( I chose function from part 2) and translates those sequences and names it aa_string\n",
    "    \n",
    "    MW = compute_molecular_weight(aa_string) #runs the amino acids string through my compue_molecular_weight function to count up all the weights of the amino acids\n",
    "    all_MW.append(MW) #adds each run through the for loop's amino acid weight to the list All_MW in order by defualt\n",
    "    \n",
    "    calc_gc = Calc_GC_Percent(value) # runs the value(sequence string) through my Calc_GC_Percent function to calculate the GC percenage for that value\n",
    "    all_GC.append(calc_gc) #adds each run through the for loop's, Calc_GC_Percent function to the list all_GC in order by defualt\n",
    "    \n",
    "    \n",
    "penguins_new_columns_df['GC_content'] = all_GC #adding my list in order of GC percentages to the data frame\n",
    "penguins_new_columns_df['Molecular_weight'] = all_MW #adding my list in order of Molecular Weights to the data frame\n",
    "\n",
    "    \n",
    "\n",
    "## Part 8 of the assignment ##\n",
    "## Plot a bar-chart of the mass with the x-axes labeled with species names.    \n",
    "    \n",
    "    \n",
    "#Start of my code for plots:\n",
    "%matplotlib inline  #Provided you are running IPython, the %matplotlib inline will make your plot outputs appear and be stored within the notebook. source https://stackoverflow.com/questions/43027980/purpose-of-matplotlib-inline\n",
    "\n",
    "\n",
    "\n",
    "plot = sns.barplot(x = \"species\", y = \"mass\", data = penguins_new_columns_df) #assinging a seaborn bar plot with x axis matching species and\n",
    "# the y axis as that species mass, the data = is assigning what dataframe to plot from\n",
    "plot.set_xticklabels(rotation = 90, labels = penguins_new_columns_df['species']) # I did this to rotate the x axis increment names\n",
    "# by 90 degrees so that they were readable. \n",
    "#first plot below is the plot for part 8 of assignment\n",
    "\n",
    "#Plot part 8 questions\n",
    "#  Q1 Answer: Eudyptula minor is the smallest penquin species\n",
    "#  Q2 Answer: Eudyptula minor total amino acid sequence molecular weight is the third highest of the species\n",
    "\n",
    "## Part 9 of the assignment##\n",
    "## Plot a visualization of the molecular weight (y-axis) as a function of GC-content (x-axis).\n",
    "\n",
    "\n",
    "sns.lmplot(\"GC_content\", \"Molecular_weight\", penguins_new_columns_df, fit_reg=False) # a seaborne lmplot to acheive\n",
    "# part 9's request of plotting a visualization of the molecular weight (y-axis) as a function of GC-content (x-axis).\n",
    "\n",
    "\n",
    "## Part 10 of the assignment##\n",
    "## Save the new DataFrame to a file called \"penguins_mass_cytb.csv\"\n",
    "\n",
    "penguins_new_columns_df.to_csv(\"penguins_new_columns_df.csv\")  #saves the data frame penguins_new_columns_df to a csv file\n",
    "# in notebooks home directory, I will upload this file to the github repository\n",
    "\n"
   ]
  },
  {
   "cell_type": "code",
   "execution_count": 11,
   "metadata": {},
   "outputs": [
    {
     "data": {
      "text/html": [
       "<div>\n",
       "<style scoped>\n",
       "    .dataframe tbody tr th:only-of-type {\n",
       "        vertical-align: middle;\n",
       "    }\n",
       "\n",
       "    .dataframe tbody tr th {\n",
       "        vertical-align: top;\n",
       "    }\n",
       "\n",
       "    .dataframe thead th {\n",
       "        text-align: right;\n",
       "    }\n",
       "</style>\n",
       "<table border=\"1\" class=\"dataframe\">\n",
       "  <thead>\n",
       "    <tr style=\"text-align: right;\">\n",
       "      <th></th>\n",
       "      <th>species</th>\n",
       "      <th>mass</th>\n",
       "      <th>Molecular_weight</th>\n",
       "      <th>GC_content</th>\n",
       "    </tr>\n",
       "  </thead>\n",
       "  <tbody>\n",
       "    <tr>\n",
       "      <th>0</th>\n",
       "      <td>Aptenodytes forsteri</td>\n",
       "      <td>28.00</td>\n",
       "      <td>42459.6021</td>\n",
       "      <td>48.381452</td>\n",
       "    </tr>\n",
       "    <tr>\n",
       "      <th>1</th>\n",
       "      <td>Aptenodytes patagonicus</td>\n",
       "      <td>13.40</td>\n",
       "      <td>42563.7067</td>\n",
       "      <td>49.693788</td>\n",
       "    </tr>\n",
       "    <tr>\n",
       "      <th>2</th>\n",
       "      <td>Eudyptes chrysocome</td>\n",
       "      <td>2.80</td>\n",
       "      <td>42475.5753</td>\n",
       "      <td>51.181102</td>\n",
       "    </tr>\n",
       "    <tr>\n",
       "      <th>3</th>\n",
       "      <td>Eudyptes chrysolophus</td>\n",
       "      <td>4.50</td>\n",
       "      <td>42445.5493</td>\n",
       "      <td>50.918635</td>\n",
       "    </tr>\n",
       "    <tr>\n",
       "      <th>4</th>\n",
       "      <td>Eudyptes sclateri</td>\n",
       "      <td>4.25</td>\n",
       "      <td>42475.5753</td>\n",
       "      <td>50.831146</td>\n",
       "    </tr>\n",
       "    <tr>\n",
       "      <th>5</th>\n",
       "      <td>Eudyptula minor</td>\n",
       "      <td>1.60</td>\n",
       "      <td>42491.6408</td>\n",
       "      <td>49.256343</td>\n",
       "    </tr>\n",
       "    <tr>\n",
       "      <th>6</th>\n",
       "      <td>Pygoscelis adeliae</td>\n",
       "      <td>4.60</td>\n",
       "      <td>42458.6140</td>\n",
       "      <td>49.081365</td>\n",
       "    </tr>\n",
       "    <tr>\n",
       "      <th>7</th>\n",
       "      <td>Pygoscelis antarctica</td>\n",
       "      <td>4.10</td>\n",
       "      <td>42404.5423</td>\n",
       "      <td>47.769029</td>\n",
       "    </tr>\n",
       "    <tr>\n",
       "      <th>8</th>\n",
       "      <td>Pygoscelis papua</td>\n",
       "      <td>6.10</td>\n",
       "      <td>42595.8759</td>\n",
       "      <td>47.156605</td>\n",
       "    </tr>\n",
       "    <tr>\n",
       "      <th>9</th>\n",
       "      <td>Spheniscus demersus</td>\n",
       "      <td>3.20</td>\n",
       "      <td>42431.5490</td>\n",
       "      <td>48.293963</td>\n",
       "    </tr>\n",
       "    <tr>\n",
       "      <th>10</th>\n",
       "      <td>Spheniscus humboldti</td>\n",
       "      <td>4.75</td>\n",
       "      <td>42399.5520</td>\n",
       "      <td>49.256343</td>\n",
       "    </tr>\n",
       "    <tr>\n",
       "      <th>11</th>\n",
       "      <td>Spheniscus magellanicus</td>\n",
       "      <td>3.40</td>\n",
       "      <td>42459.6021</td>\n",
       "      <td>48.206474</td>\n",
       "    </tr>\n",
       "  </tbody>\n",
       "</table>\n",
       "</div>"
      ],
      "text/plain": [
       "                    species   mass  Molecular_weight  GC_content\n",
       "0      Aptenodytes forsteri  28.00        42459.6021   48.381452\n",
       "1   Aptenodytes patagonicus  13.40        42563.7067   49.693788\n",
       "2       Eudyptes chrysocome   2.80        42475.5753   51.181102\n",
       "3     Eudyptes chrysolophus   4.50        42445.5493   50.918635\n",
       "4         Eudyptes sclateri   4.25        42475.5753   50.831146\n",
       "5           Eudyptula minor   1.60        42491.6408   49.256343\n",
       "6        Pygoscelis adeliae   4.60        42458.6140   49.081365\n",
       "7     Pygoscelis antarctica   4.10        42404.5423   47.769029\n",
       "8          Pygoscelis papua   6.10        42595.8759   47.156605\n",
       "9       Spheniscus demersus   3.20        42431.5490   48.293963\n",
       "10     Spheniscus humboldti   4.75        42399.5520   49.256343\n",
       "11  Spheniscus magellanicus   3.40        42459.6021   48.206474"
      ]
     },
     "execution_count": 11,
     "metadata": {},
     "output_type": "execute_result"
    }
   ],
   "source": [
    "penguins_new_columns_df # test of my data frame, all functions of the main block worked as expected, I checked each data frame\n",
    "# (with altering names) after each line of code in the main block. Below is the new dataframe with correctly imputed values \n",
    "# for the last check"
   ]
  },
  {
   "cell_type": "markdown",
   "metadata": {},
   "source": [
    "## 11 - BONUS ##\n",
    "What else can we do with this dataset in Python? \n",
    "Add functions or anything that might be interesting and fun. (optional)\n",
    "\n",
    "\n",
    "for part 11 (extra credit) of the assignment I chose to plot species versus the sum of the molecular weights of each amino acid in each species of penguin's sequence with a seaborn lm plot.\n",
    "the source for this code I found in the classes python notes. This below graph also fits the axis to the ranges of the\n",
    "weights which allows you to show ow closely grouped together they are. The graph also has a legend that shows you what\n",
    "color of the points matches to which species, I played with values of the classes notes code until I liked how the below \n",
    "outputed plot looked"
   ]
  },
  {
   "cell_type": "code",
   "execution_count": 43,
   "metadata": {},
   "outputs": [
    {
     "data": {
      "text/plain": [
       "<seaborn.axisgrid.FacetGrid at 0x17704550>"
      ]
     },
     "execution_count": 43,
     "metadata": {},
     "output_type": "execute_result"
    },
    {
     "data": {
      "image/png": "[encoded data removed]",
      "text/plain": [
       "<matplotlib.figure.Figure at 0x18801048>"
      ]
     },
     "metadata": {},
     "output_type": "display_data"
    }
   ],
   "source": [
    "\n",
    "\n",
    "plot_3_extra_credit = sns.lmplot(\"species\", \"Molecular_weight\", penguins_new_columns_df, fit_reg=False, size=8,\n",
    "           aspect=0.5, scatter_kws={'alpha':0.5,\"s\": 50}, hue='species', markers='D')\n",
    "\n",
    "plot_3_extra_credit.set_xticklabels(rotation = 90, labels = penguins_new_columns_df['species'])\n",
    "#did this to make x axis species names readable again\n",
    "\n"
   ]
  }
 ],
 "metadata": {
  "kernelspec": {
   "display_name": "Python 3",
   "language": "python",
   "name": "python3"
  },
  "language_info": {
   "codemirror_mode": {
    "name": "ipython",
    "version": 3
   },
   "file_extension": ".py",
   "mimetype": "text/x-python",
   "name": "python",
   "nbconvert_exporter": "python",
   "pygments_lexer": "ipython3",
   "version": "3.6.3"
  }
 },
 "nbformat": 4,
 "nbformat_minor": 2
}

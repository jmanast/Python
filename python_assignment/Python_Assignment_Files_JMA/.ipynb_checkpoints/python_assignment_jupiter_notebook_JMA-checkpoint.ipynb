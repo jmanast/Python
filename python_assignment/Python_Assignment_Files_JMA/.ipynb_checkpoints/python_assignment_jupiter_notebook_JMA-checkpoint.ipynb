{
 "cells": [
  {
   "cell_type": "markdown",
   "metadata": {},
   "source": [
    "# Python Project Start\n",
    " I will start by examining the peguins_translate.py document using Atom to view. \n",
    " \n"
   ]
  },
  {
   "cell_type": "code",
   "execution_count": 1,
   "metadata": {
    "collapsed": true
   },
   "outputs": [],
   "source": [
    "from Bio import SeqIO\n",
    "from Bio.Data import CodonTable\n",
    "import pandas as pd"
   ]
  },
  {
   "cell_type": "markdown",
   "metadata": {},
   "source": [
    "## First time I [3] it didn't work\n",
    "    I had to install BioPython using the Andaconda termial\n",
    "            * after this [3] worked"
   ]
  },
  {
   "cell_type": "markdown",
   "metadata": {},
   "source": [
    "# 1 #\n",
    "### Dr. X: this gets sequences \n",
    "### Please finish documenting this function with comments, or in notebook markdown text\n",
    "### Your descriptions of all functions should contain information about what the function does,\n",
    "### as well as information about the return types and arguments."
   ]
  },
  {
   "cell_type": "code",
   "execution_count": 6,
   "metadata": {
    "collapsed": true
   },
   "outputs": [],
   "source": [
    "\n",
    "# My annotation start, from now on anything surrounded by \" ie \"from\" will be a quote from part of the code being annotated\n",
    "def get_sequences_from_file(fasta_fn): # \"def\" This is the python function to define a program start in python\n",
    "# \"get_sequences_from_file\" is the program name, \"(fasta_fn)\" is the name assigned to that program's, function's, data output\n",
    "# \":\" signifies that (a) function(s) start(s) after this point.\n",
    "    # Any line commnd that starts bellow this sentence and at the same identation as this sentence's begining hash will\n",
    "    # be a function in part of the program, in this case there is a dictionary, a for loop function (with a sub program and \n",
    "    # function) and return object in this program \n",
    "    \n",
    "    sequence_data_dict = {} # here you are making a dictionary, a contianer that holds pairs of objects,-  keys and values,\n",
    "    # \"sequence_data_dict\" will be your dictionary name, \"=\" is assigning the name to output of\"{}\", \n",
    "    #\"{}\" will assign the out put of following functions\n",
    "       # to \"get_sequences_from_file\", at the point of creation this container doesn't hold anything until another functions\n",
    "       # assigns objects to the dictionary.\n",
    "    \n",
    "    for record in SeqIO.parse(fasta_fn, \"fasta\"): # \"for\" is ignitiating a for loop in python,     \n",
    "       # \"record\" is the element name in the data structure the for loop will extract.\n",
    "       # \"in\" is the part of the for loop that will precede and assign the data structure\n",
    "       # \"SeqIO.parse\" is the data structure the for loop is extracting from\n",
    "       # \"(fasta_fn, \"fasta\")\" the \"()\" is setting up a method for interacting with the object SeqIO.Parse\n",
    "       # We are essentially manipulating the data structure as its being initiated in the for loop\n",
    "       # \"fasta_fn, \"fasta\"\" Fasta_fn is what is being recognized for this function as a fasta, \"fasta\" is telling SeqIO.Parse\n",
    "       # that this is a fasta\n",
    "        \n",
    "        # anything after this at this indentation will be a subroutine of the funtion For loop.\n",
    "        description = record.description.split()\n",
    "        # here you are assigning the output to \"description\" of the information from the object \"record\" \n",
    "        # Record is the oject you will be intereacting with several methods and then assign to output \"description\n",
    "        # \".description\" is the first method you interact with the object record with.\n",
    "        # this first method is a biopython method that is a human readable description or expressive name for the sequence– a string.\n",
    "        # \".split()\" method will split or breakup a string and add the data to a string array using a defined separator. \n",
    "        # In the case of our record it has a large fasta header and we are splitting up each the words into different partys assigned to a key\n",
    "        # In the case of [1] will be the genus, and [2] will be the species name.\n",
    "        # If no separator is defined when you call upon the function, whitespace will be used by default.\n",
    "        # Source from above two lines http://www.pythonforbeginners.com/dictionary/python-split , http://biopython.org/wiki/SeqRecord\n",
    "        \n",
    "        #second subroutine of the for loop\n",
    "        species_name = description[1] + \" \" + description[2]\n",
    "        # here we are assigning an output to \"species_name\" with \"species_name =\", Our aim is to set \"species_name\" to match genus \n",
    "        # and species of our record , \"discription[1] + \" \" + description[2]\" here you are calling on your \n",
    "        # discription[1] which corresponds genus and \"+ \" \" + \" is signifiying that there is white space set as strings that were set\n",
    "        # by split() defualt function. \"description[2]\" signifies that the third indexed element will follow, which is species.\n",
    "        # All in all it means set species_name as genus, default seperater, species. \n",
    "  \n",
    "     \n",
    "        # thrid subroutine of the for loop\n",
    "        \n",
    "        sequence_data_dict[species_name] = record.seq\n",
    "        # here you are assigning keys to your dictionary \"sequence_data_dict\" to be as species name by \"[species_name]\"\n",
    "        # \"= record.seq\" is matcing the those speices name keys to that species sequence. The .seq function in biopython\n",
    "        # will call the sequence itself, typically a Seq object. \".seq\" will return the sequence like \"Seq('ATCGG.....')\"\n",
    "   \n",
    "    return(sequence_data_dict)\n",
    "    # \"return\" is a function that will take the incoming input and redirected it to the dictionary \"sequence_data_dict\", \n",
    "    # this is in contrast to the print function that would cause the input to be displayed on your terminal.\n"
   ]
  },
  {
   "cell_type": "markdown",
   "metadata": {
    "collapsed": true
   },
   "source": [
    "## 2 ##\n",
    "####### YOUR STRING-TRANSLATE FUNCTION ########\n",
    "## Write a function that translates sequences\n",
    "## All sequences start at codon position 1\n",
    "## Complete a function that translates using a loop over the string of nucleotides\n",
    "## Here is  some pseudo-code and suggestions\n",
    "## feel free to change the function and variable names\n",
    "\n",
    "\n",
    " def translate_function(string_nucleotides): \n",
    "     mito_table = CodonTable.unambiguous_dna_by_name[\"Vertebrate Mitochondrial\"] # this should work using BioPython (be sure to check what this returns)\n",
    "     for 3rd_position in string_nucleotides to get the codon using range subsets\n",
    "          IMPORTANT: if the sequence has a stop codon at the end, you should leave it off\n",
    "          this is how you can retrieve the amino acid: mito_table.forward_table[codon]\n",
    "          add the aa to aa_seq_string\n",
    "    return(aa_seq_string)"
   ]
  },
  {
   "cell_type": "code",
   "execution_count": 21,
   "metadata": {
    "collapsed": true
   },
   "outputs": [
    {
     "ename": "NameError",
     "evalue": "name 'protein_sequence' is not defined",
     "output_type": "error",
     "traceback": [
      "\u001b[1;31m---------------------------------------------------------------------------\u001b[0m",
      "\u001b[1;31mNameError\u001b[0m                                 Traceback (most recent call last)",
      "\u001b[1;32m<ipython-input-21-43240c69f9fb>\u001b[0m in \u001b[0;36m<module>\u001b[1;34m()\u001b[0m\n\u001b[0;32m     17\u001b[0m    \u001b[1;31m#source https://stackoverflow.com/questions/19521905/translation-dna-to-protein\u001b[0m\u001b[1;33m\u001b[0m\u001b[1;33m\u001b[0m\u001b[0m\n\u001b[0;32m     18\u001b[0m \u001b[1;33m\u001b[0m\u001b[0m\n\u001b[1;32m---> 19\u001b[1;33m print(protein_sequence\n\u001b[0m\u001b[0;32m     20\u001b[0m     )        \n",
      "\u001b[1;31mNameError\u001b[0m: name 'protein_sequence' is not defined"
     ]
    }
   ],
   "source": [
    "#my annotation\n",
    "def translate_function(sequence, mito_table, stop_codons = ('TAA', 'TAG', 'AGA', 'AGG')):       \n",
    "    start = sequence.find(['ATT', 'ATC', 'ATA', 'ATG', 'GTG']) \n",
    "    \n",
    "    mito_table = CodonTable.unambiguous_dna_by_name[\"Vertebrate Mitochondrial\"] \n",
    "\n",
    "    trimmed_sequence = sequence[start:]\n",
    "    codons = [trimmed_sequence[i:i+3] for i in range(0, len(trimmed_sequence), 3)]\n",
    "  \n",
    "    \n",
    "    coding_sequence  =  takewhile(lambda x: x not in stop_codons and len(x) == 3 , codons)\n",
    "    \n",
    "    protein_sequence = ''.join([mito_table[codon] for codon in coding_sequence])\n",
    "    return \"{0}_\".format(protein_sequence)\n",
    "    \n",
    "    \n",
    "   #source https://stackoverflow.com/questions/19521905/translation-dna-to-protein\n"
   ]
  },
  {
   "cell_type": "code",
   "execution_count": null,
   "metadata": {
    "collapsed": true
   },
   "outputs": [],
   "source": []
  },
  {
   "cell_type": "code",
   "execution_count": 7,
   "metadata": {
    "scrolled": false
   },
   "outputs": [
    {
     "ename": "IndentationError",
     "evalue": "unindent does not match any outer indentation level (<tokenize>, line 17)",
     "output_type": "error",
     "traceback": [
      "\u001b[1;36m  File \u001b[1;32m\"<tokenize>\"\u001b[1;36m, line \u001b[1;32m17\u001b[0m\n\u001b[1;33m    return(aa_seq_string)\u001b[0m\n\u001b[1;37m    ^\u001b[0m\n\u001b[1;31mIndentationError\u001b[0m\u001b[1;31m:\u001b[0m unindent does not match any outer indentation level\n"
     ]
    }
   ],
   "source": [
    "\n",
    "\n",
    "## 3 ##\n",
    "####### YOUR ALTERNATIVE FUNCTION ########\n",
    "## Is there a better way to write the translation function? (Hint: yes there is.) \n",
    "## Perhaps using available BioPython library utilities?\n",
    "## Please also write this function.\n",
    "\n",
    "\n",
    "\n",
    "\n",
    "\n",
    "\n",
    "\n",
    "\n",
    "\n",
    "\n",
    "\n",
    "\n",
    "\n",
    "\n",
    "\n",
    "\n",
    "\n",
    "\n",
    "\n"
   ]
  },
  {
   "cell_type": "code",
   "execution_count": null,
   "metadata": {
    "collapsed": true
   },
   "outputs": [],
   "source": [
    "## 4 ##\n",
    "####### YOUR COUNT AA ANALYSIS FUNCTION ########\n",
    "## Write a function that calculates the molecular weight of each amino acid sequence.\n",
    "## For this, you can use some BioPython functions. I think you can use the ProtParam module.\n",
    "## For more info, check this out: http://biopython.org/wiki/ProtParam\n",
    "## So you should import the following before defining your function:\n",
    "from Bio.SeqUtils.ProtParam import ProteinAnalysis\n",
    "# def compute_molecular_weight(aa_seq):\n",
    "#     # I think the ProtParam functions may require aa_seq to be a string.\n",
    "#     # It may not work if the amino acid sequence has stop codons.\n",
    "#     run the ProteinAnalysis() function on aa_seq\n",
    "#\t  return the molecular weight"
   ]
  },
  {
   "cell_type": "code",
   "execution_count": null,
   "metadata": {
    "collapsed": true
   },
   "outputs": [],
   "source": [
    "## 5 ##\n",
    "####### YOUR GC CONTENT ANALYSIS FUNCTION ########\n",
    "## Write a function that calculates the GC-content (proportion of \"G\" and \"C\") of each DNA sequence and returns this value."
   ]
  },
  {
   "cell_type": "code",
   "execution_count": null,
   "metadata": {
    "collapsed": true
   },
   "outputs": [],
   "source": [
    "#%%%%%%%%%%%%%%#\n",
    "###   MAIN   ###\n",
    "#%%%%%%%%%%%%%%#\n",
    "\n",
    "cytb_seqs = get_sequences_from_file(\"penguins_cytb.fasta\") \n",
    "\n",
    "penguins_df = pd.read_csv(\"penguins_mass.csv\") # Includes only data for body mass \n",
    "species_list = list(penguins_df.species)"
   ]
  },
  {
   "cell_type": "code",
   "execution_count": null,
   "metadata": {
    "collapsed": true
   },
   "outputs": [],
   "source": [
    "\n",
    "## 6 ## \n",
    "## Add two new columns to the penguin DataFrame: (1) molecular weight and (2) GC content.\n",
    "## Set the value to 'NaN' to indicate that these cells are currently empty"
   ]
  },
  {
   "cell_type": "code",
   "execution_count": null,
   "metadata": {
    "collapsed": true
   },
   "outputs": [],
   "source": [
    "## 7 ##\n",
    "## Write a for-loop that translates each sequence and also gets molecular weight and computes the GC content\n",
    "## of each translated sequence and adds those data to DataFrame\n",
    "# for key, value in cytb_seqs.items():\n",
    "#     aa_seq = nuc2aa_translate_function(value) # whichever function you prefer of #2 or #3\n",
    "#     get the molecular weight of aa_seq\n",
    "#     get the GC content of the DNA sequence\n",
    "#     fill in empty cells in DF that you created above"
   ]
  },
  {
   "cell_type": "code",
   "execution_count": null,
   "metadata": {
    "collapsed": true
   },
   "outputs": [],
   "source": [
    "## 8 ##\n",
    "## Plot a bar-chart of the mass with the x-axes labeled with species names.\n",
    "## *Q1* What is the smallest penguin species? \n",
    "## *Q2* What else is interesting about this species?"
   ]
  },
  {
   "cell_type": "code",
   "execution_count": null,
   "metadata": {
    "collapsed": true
   },
   "outputs": [],
   "source": [
    "## 9 ##\n",
    "## Plot a visualization of the molecular weight (y-axis) as a function of GC-content (x-axis)."
   ]
  },
  {
   "cell_type": "code",
   "execution_count": null,
   "metadata": {
    "collapsed": true
   },
   "outputs": [],
   "source": [
    "## 10 ##\n",
    "## Save the new DataFrame to a file called \"penguins_mass_cytb.csv\""
   ]
  },
  {
   "cell_type": "code",
   "execution_count": null,
   "metadata": {
    "collapsed": true
   },
   "outputs": [],
   "source": [
    "## 11 - BONUS ##\n",
    "## What else can we do with this dataset in Python? \n",
    "## Add functions or anything that might be interesting and fun. (optional)\n"
   ]
  }
 ],
 "metadata": {
  "kernelspec": {
   "display_name": "Python 3",
   "language": "python",
   "name": "python3"
  },
  "language_info": {
   "codemirror_mode": {
    "name": "ipython",
    "version": 3
   },
   "file_extension": ".py",
   "mimetype": "text/x-python",
   "name": "python",
   "nbconvert_exporter": "python",
   "pygments_lexer": "ipython3",
   "version": "3.6.3"
  }
 },
 "nbformat": 4,
 "nbformat_minor": 2
}

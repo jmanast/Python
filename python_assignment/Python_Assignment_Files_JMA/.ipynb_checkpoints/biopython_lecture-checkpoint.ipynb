{
 "cells": [
  {
   "cell_type": "markdown",
   "metadata": {},
   "source": [
    "### bipython\n"
   ]
  },
  {
   "cell_type": "code",
   "execution_count": 20,
   "metadata": {},
   "outputs": [
    {
     "ename": "ModuleNotFoundError",
     "evalue": "No module named 'biopython'",
     "output_type": "error",
     "traceback": [
      "\u001b[1;31m---------------------------------------------------------------------------\u001b[0m",
      "\u001b[1;31mModuleNotFoundError\u001b[0m                       Traceback (most recent call last)",
      "\u001b[1;32m<ipython-input-20-288a3c442fcf>\u001b[0m in \u001b[0;36m<module>\u001b[1;34m()\u001b[0m\n\u001b[0;32m      1\u001b[0m \u001b[1;32mimport\u001b[0m \u001b[0murllib\u001b[0m\u001b[1;33m\u001b[0m\u001b[0m\n\u001b[1;32m----> 2\u001b[1;33m \u001b[1;32mimport\u001b[0m \u001b[0mbiopython\u001b[0m\u001b[1;33m\u001b[0m\u001b[0m\n\u001b[0m",
      "\u001b[1;31mModuleNotFoundError\u001b[0m: No module named 'biopython'"
     ]
    }
   ],
   "source": [
    " import urllib\n",
    "import biopython"
   ]
  },
  {
   "cell_type": "code",
   "execution_count": 2,
   "metadata": {},
   "outputs": [
    {
     "ename": "SyntaxError",
     "evalue": "EOL while scanning string literal (<ipython-input-2-ac905e8fa9a2>, line 1)",
     "output_type": "error",
     "traceback": [
      "\u001b[1;36m  File \u001b[1;32m\"<ipython-input-2-ac905e8fa9a2>\"\u001b[1;36m, line \u001b[1;32m1\u001b[0m\n\u001b[1;33m    urllib.urlretrieve('https://raw.githubusercontent.co\u001b[0m\n\u001b[1;37m                                                        ^\u001b[0m\n\u001b[1;31mSyntaxError\u001b[0m\u001b[1;31m:\u001b[0m EOL while scanning string literal\n"
     ]
    }
   ],
   "source": [
    "urllib.urlretrieve('https://raw.githubusercontent.co\n",
    "m/biopython/biopython/master/Tests/GenBank/NC_00\n",
    "5816.fna', 'yp.fasta')"
   ]
  },
  {
   "cell_type": "code",
   "execution_count": 3,
   "metadata": {
    "collapsed": true
   },
   "outputs": [],
   "source": [
    " import urllib"
   ]
  },
  {
   "cell_type": "code",
   "execution_count": 16,
   "metadata": {},
   "outputs": [
    {
     "ename": "SyntaxError",
     "evalue": "invalid character in identifier (<ipython-input-16-8c7090af5dab>, line 2)",
     "output_type": "error",
     "traceback": [
      "\u001b[1;36m  File \u001b[1;32m\"<ipython-input-16-8c7090af5dab>\"\u001b[1;36m, line \u001b[1;32m2\u001b[0m\n\u001b[1;33m    class MyClass:\u001b[0m\n\u001b[1;37m                ^\u001b[0m\n\u001b[1;31mSyntaxError\u001b[0m\u001b[1;31m:\u001b[0m invalid character in identifier\n"
     ]
    }
   ],
   "source": [
    "\n",
    "class MyClass:\n",
    "    'A simple example class'\n",
    "    z = MyClass()\n",
    "    def __init__(self):\n",
    "        self.data = []\n",
    "        self._priv = 'fuggetabouti'\n",
    "    def say_hi(self):\n",
    "        return 'hello world'\n",
    "    def __str__(self):\n",
    "        return 'yoohoo'+str(self.data[:3])+\"...\"\n"
   ]
  },
  {
   "cell_type": "code",
   "execution_count": 15,
   "metadata": {},
   "outputs": [
    {
     "ename": "NameError",
     "evalue": "name 'MyClass' is not defined",
     "output_type": "error",
     "traceback": [
      "\u001b[1;31m---------------------------------------------------------------------------\u001b[0m",
      "\u001b[1;31mNameError\u001b[0m                                 Traceback (most recent call last)",
      "\u001b[1;32m<ipython-input-15-007145da6e57>\u001b[0m in \u001b[0;36m<module>\u001b[1;34m()\u001b[0m\n\u001b[0;32m      1\u001b[0m \u001b[1;33m\u001b[0m\u001b[0m\n\u001b[1;32m----> 2\u001b[1;33m \u001b[0mz\u001b[0m \u001b[1;33m=\u001b[0m \u001b[0mMyClass\u001b[0m\u001b[1;33m(\u001b[0m\u001b[1;33m)\u001b[0m\u001b[1;33m\u001b[0m\u001b[0m\n\u001b[0m\u001b[0;32m      3\u001b[0m \u001b[0mz\u001b[0m\u001b[1;33m.\u001b[0m\u001b[0mdata\u001b[0m \u001b[1;33m=\u001b[0m \u001b[1;33m[\u001b[0m\u001b[1;36m1\u001b[0m\u001b[1;33m,\u001b[0m\u001b[1;34m\"foo\"\u001b[0m\u001b[1;33m,\u001b[0m\u001b[1;34m\"bar\"\u001b[0m\u001b[1;33m,\u001b[0m\u001b[1;33m-\u001b[0m\u001b[1;36m5\u001b[0m\u001b[1;33m,\u001b[0m\u001b[1;36m9\u001b[0m\u001b[1;33m]\u001b[0m\u001b[1;33m\u001b[0m\u001b[0m\n\u001b[0;32m      4\u001b[0m \u001b[0mprint\u001b[0m\u001b[1;33m(\u001b[0m\u001b[0mz\u001b[0m\u001b[1;33m)\u001b[0m\u001b[1;33m\u001b[0m\u001b[0m\n",
      "\u001b[1;31mNameError\u001b[0m: name 'MyClass' is not defined"
     ]
    }
   ],
   "source": [
    "\n",
    "z = MyClass()\n",
    "z.data = [1,\"foo\",\"bar\",-5,9]\n",
    "print(z)"
   ]
  },
  {
   "cell_type": "code",
   "execution_count": 23,
   "metadata": {},
   "outputs": [
    {
     "ename": "SyntaxError",
     "evalue": "invalid character in identifier (<ipython-input-23-01a15327e09a>, line 3)",
     "output_type": "error",
     "traceback": [
      "\u001b[1;36m  File \u001b[1;32m\"<ipython-input-23-01a15327e09a>\"\u001b[1;36m, line \u001b[1;32m3\u001b[0m\n\u001b[1;33m    my_seq = Seq('AGTACACTGGT', IUPAC.unambiguous_dna)\u001b[0m\n\u001b[1;37m          ^\u001b[0m\n\u001b[1;31mSyntaxError\u001b[0m\u001b[1;31m:\u001b[0m invalid character in identifier\n"
     ]
    }
   ],
   "source": [
    "from Bio.Seq import Seq\n",
    "from Bio.Alphabet import IUPAC\n",
    "my_seq = Seq('AGTACACTGGT', IUPAC.unambiguous_dna)\n",
    "my_seq"
   ]
  },
  {
   "cell_type": "code",
   "execution_count": 22,
   "metadata": {},
   "outputs": [],
   "source": [
    "from Bio.Seq import Seq"
   ]
  },
  {
   "cell_type": "code",
   "execution_count": 24,
   "metadata": {
    "collapsed": true
   },
   "outputs": [],
   "source": [
    "from Bio.Alphabet import IUPAC"
   ]
  },
  {
   "cell_type": "code",
   "execution_count": 27,
   "metadata": {},
   "outputs": [],
   "source": [
    "my_seq = Seq('AGTACACTGGT', IUPAC.unambiguous_dna)"
   ]
  },
  {
   "cell_type": "code",
   "execution_count": 28,
   "metadata": {},
   "outputs": [
    {
     "data": {
      "text/plain": [
       "Seq('AGTACACTGGT', IUPACUnambiguousDNA())"
      ]
     },
     "execution_count": 28,
     "metadata": {},
     "output_type": "execute_result"
    }
   ],
   "source": [
    "my_seq"
   ]
  },
  {
   "cell_type": "code",
   "execution_count": 30,
   "metadata": {},
   "outputs": [
    {
     "data": {
      "text/plain": [
       "['__add__',\n",
       " '__class__',\n",
       " '__contains__',\n",
       " '__delattr__',\n",
       " '__dict__',\n",
       " '__dir__',\n",
       " '__doc__',\n",
       " '__eq__',\n",
       " '__format__',\n",
       " '__ge__',\n",
       " '__getattribute__',\n",
       " '__getitem__',\n",
       " '__gt__',\n",
       " '__hash__',\n",
       " '__init__',\n",
       " '__init_subclass__',\n",
       " '__le__',\n",
       " '__len__',\n",
       " '__lt__',\n",
       " '__module__',\n",
       " '__ne__',\n",
       " '__new__',\n",
       " '__radd__',\n",
       " '__reduce__',\n",
       " '__reduce_ex__',\n",
       " '__repr__',\n",
       " '__setattr__',\n",
       " '__sizeof__',\n",
       " '__str__',\n",
       " '__subclasshook__',\n",
       " '__weakref__',\n",
       " '_data',\n",
       " '_get_seq_str_and_check_alphabet',\n",
       " 'alphabet',\n",
       " 'back_transcribe',\n",
       " 'complement',\n",
       " 'count',\n",
       " 'endswith',\n",
       " 'find',\n",
       " 'lower',\n",
       " 'lstrip',\n",
       " 'reverse_complement',\n",
       " 'rfind',\n",
       " 'rsplit',\n",
       " 'rstrip',\n",
       " 'split',\n",
       " 'startswith',\n",
       " 'strip',\n",
       " 'tomutable',\n",
       " 'tostring',\n",
       " 'transcribe',\n",
       " 'translate',\n",
       " 'ungap',\n",
       " 'upper']"
      ]
     },
     "execution_count": 30,
     "metadata": {},
     "output_type": "execute_result"
    }
   ],
   "source": [
    "dir(my_seq)"
   ]
  },
  {
   "cell_type": "code",
   "execution_count": 31,
   "metadata": {},
   "outputs": [
    {
     "data": {
      "text/plain": [
       "['Alphabet',\n",
       " 'ExtendedIUPACDNA',\n",
       " 'ExtendedIUPACProtein',\n",
       " 'IUPACAmbiguousDNA',\n",
       " 'IUPACAmbiguousRNA',\n",
       " 'IUPACData',\n",
       " 'IUPACProtein',\n",
       " 'IUPACUnambiguousDNA',\n",
       " 'IUPACUnambiguousRNA',\n",
       " '__builtins__',\n",
       " '__cached__',\n",
       " '__doc__',\n",
       " '__file__',\n",
       " '__loader__',\n",
       " '__name__',\n",
       " '__package__',\n",
       " '__spec__',\n",
       " 'ambiguous_dna',\n",
       " 'ambiguous_rna',\n",
       " 'extended_dna',\n",
       " 'extended_protein',\n",
       " 'protein',\n",
       " 'unambiguous_dna',\n",
       " 'unambiguous_rna']"
      ]
     },
     "execution_count": 31,
     "metadata": {},
     "output_type": "execute_result"
    }
   ],
   "source": [
    "dir(IUPAC)"
   ]
  },
  {
   "cell_type": "code",
   "execution_count": 36,
   "metadata": {},
   "outputs": [],
   "source": [
    "my_seq = Seq('GATCGATGGGCCTATATAGGATCGAAAATCGC',IUPAC.unambiguous_dna)\n",
    "\n"
   ]
  },
  {
   "cell_type": "code",
   "execution_count": 37,
   "metadata": {},
   "outputs": [
    {
     "data": {
      "text/plain": [
       "32"
      ]
     },
     "execution_count": 37,
     "metadata": {},
     "output_type": "execute_result"
    }
   ],
   "source": [
    "len(my_seq)"
   ]
  },
  {
   "cell_type": "code",
   "execution_count": 38,
   "metadata": {},
   "outputs": [
    {
     "name": "stdout",
     "output_type": "stream",
     "text": [
      "TGG\n"
     ]
    }
   ],
   "source": [
    "print(my_seq[6:9])"
   ]
  },
  {
   "cell_type": "code",
   "execution_count": 39,
   "metadata": {},
   "outputs": [
    {
     "data": {
      "text/plain": [
       "9"
      ]
     },
     "execution_count": 39,
     "metadata": {},
     "output_type": "execute_result"
    }
   ],
   "source": [
    "my_seq.count(\"G\")\n"
   ]
  },
  {
   "cell_type": "code",
   "execution_count": 40,
   "metadata": {},
   "outputs": [
    {
     "data": {
      "text/plain": [
       "Seq('GATCGATGGGCCTATATAGGATCGAAAATCGC', IUPACUnambiguousDNA())"
      ]
     },
     "execution_count": 40,
     "metadata": {},
     "output_type": "execute_result"
    }
   ],
   "source": [
    "my_seq #seq object"
   ]
  },
  {
   "cell_type": "code",
   "execution_count": 41,
   "metadata": {
    "collapsed": true
   },
   "outputs": [],
   "source": [
    "seq_string=str(my_seq) "
   ]
  },
  {
   "cell_type": "code",
   "execution_count": 42,
   "metadata": {},
   "outputs": [
    {
     "data": {
      "text/plain": [
       "'GATCGATGGGCCTATATAGGATCGAAAATCGC'"
      ]
     },
     "execution_count": 42,
     "metadata": {},
     "output_type": "execute_result"
    }
   ],
   "source": [
    "seq_string #string object"
   ]
  },
  {
   "cell_type": "code",
   "execution_count": 45,
   "metadata": {},
   "outputs": [
    {
     "name": "stdout",
     "output_type": "stream",
     "text": [
      "index 0, ID = Z78533.1, length 740, with 5 features\n",
      "index 1, ID = Z78532.1, length 753, with 5 features\n",
      "index 2, ID = Z78531.1, length 748, with 5 features\n",
      "index 3, ID = Z78530.1, length 744, with 5 features\n",
      "index 4, ID = Z78529.1, length 733, with 5 features\n",
      "index 5, ID = Z78527.1, length 718, with 5 features\n",
      "index 6, ID = Z78526.1, length 730, with 5 features\n",
      "index 7, ID = Z78525.1, length 704, with 5 features\n",
      "index 8, ID = Z78524.1, length 740, with 5 features\n",
      "index 9, ID = Z78523.1, length 709, with 5 features\n",
      "index 10, ID = Z78522.1, length 700, with 5 features\n",
      "index 11, ID = Z78521.1, length 726, with 5 features\n",
      "index 12, ID = Z78520.1, length 753, with 5 features\n",
      "index 13, ID = Z78519.1, length 699, with 5 features\n",
      "index 14, ID = Z78518.1, length 658, with 5 features\n",
      "index 15, ID = Z78517.1, length 752, with 5 features\n",
      "index 16, ID = Z78516.1, length 726, with 5 features\n",
      "index 17, ID = Z78515.1, length 765, with 5 features\n",
      "index 18, ID = Z78514.1, length 755, with 5 features\n",
      "index 19, ID = Z78513.1, length 742, with 5 features\n",
      "index 20, ID = Z78512.1, length 762, with 5 features\n",
      "index 21, ID = Z78511.1, length 745, with 5 features\n",
      "index 22, ID = Z78510.1, length 750, with 5 features\n",
      "index 23, ID = Z78509.1, length 731, with 5 features\n",
      "index 24, ID = Z78508.1, length 741, with 5 features\n",
      "index 25, ID = Z78507.1, length 740, with 5 features\n",
      "index 26, ID = Z78506.1, length 727, with 5 features\n",
      "index 27, ID = Z78505.1, length 711, with 5 features\n",
      "index 28, ID = Z78504.1, length 743, with 5 features\n",
      "index 29, ID = Z78503.1, length 727, with 5 features\n",
      "index 30, ID = Z78502.1, length 757, with 5 features\n",
      "index 31, ID = Z78501.1, length 770, with 5 features\n",
      "index 32, ID = Z78500.1, length 767, with 5 features\n",
      "index 33, ID = Z78499.1, length 759, with 5 features\n",
      "index 34, ID = Z78498.1, length 750, with 5 features\n",
      "index 35, ID = Z78497.1, length 788, with 5 features\n",
      "index 36, ID = Z78496.1, length 774, with 5 features\n",
      "index 37, ID = Z78495.1, length 789, with 5 features\n",
      "index 38, ID = Z78494.1, length 688, with 5 features\n",
      "index 39, ID = Z78493.1, length 719, with 5 features\n",
      "index 40, ID = Z78492.1, length 743, with 5 features\n",
      "index 41, ID = Z78491.1, length 737, with 5 features\n",
      "index 42, ID = Z78490.1, length 728, with 5 features\n",
      "index 43, ID = Z78489.1, length 740, with 5 features\n",
      "index 44, ID = Z78488.1, length 696, with 5 features\n",
      "index 45, ID = Z78487.1, length 732, with 5 features\n",
      "index 46, ID = Z78486.1, length 731, with 5 features\n",
      "index 47, ID = Z78485.1, length 735, with 5 features\n",
      "index 48, ID = Z78484.1, length 720, with 5 features\n",
      "index 49, ID = Z78483.1, length 740, with 5 features\n",
      "index 50, ID = Z78482.1, length 629, with 5 features\n",
      "index 51, ID = Z78481.1, length 572, with 5 features\n",
      "index 52, ID = Z78480.1, length 587, with 5 features\n",
      "index 53, ID = Z78479.1, length 700, with 5 features\n",
      "index 54, ID = Z78478.1, length 636, with 5 features\n",
      "index 55, ID = Z78477.1, length 716, with 5 features\n",
      "index 56, ID = Z78476.1, length 592, with 5 features\n",
      "index 57, ID = Z78475.1, length 716, with 5 features\n",
      "index 58, ID = Z78474.1, length 733, with 5 features\n",
      "index 59, ID = Z78473.1, length 626, with 5 features\n",
      "index 60, ID = Z78472.1, length 737, with 5 features\n",
      "index 61, ID = Z78471.1, length 740, with 5 features\n",
      "index 62, ID = Z78470.1, length 574, with 5 features\n",
      "index 63, ID = Z78469.1, length 594, with 5 features\n",
      "index 64, ID = Z78468.1, length 610, with 5 features\n",
      "index 65, ID = Z78467.1, length 730, with 5 features\n",
      "index 66, ID = Z78466.1, length 641, with 5 features\n",
      "index 67, ID = Z78465.1, length 702, with 5 features\n",
      "index 68, ID = Z78464.1, length 733, with 5 features\n",
      "index 69, ID = Z78463.1, length 738, with 5 features\n",
      "index 70, ID = Z78462.1, length 736, with 5 features\n",
      "index 71, ID = Z78461.1, length 732, with 5 features\n",
      "index 72, ID = Z78460.1, length 745, with 5 features\n",
      "index 73, ID = Z78459.1, length 744, with 5 features\n",
      "index 74, ID = Z78458.1, length 738, with 5 features\n",
      "index 75, ID = Z78457.1, length 739, with 5 features\n",
      "index 76, ID = Z78456.1, length 740, with 5 features\n",
      "index 77, ID = Z78455.1, length 745, with 5 features\n",
      "index 78, ID = Z78454.1, length 695, with 5 features\n",
      "index 79, ID = Z78453.1, length 745, with 5 features\n",
      "index 80, ID = Z78452.1, length 743, with 5 features\n",
      "index 81, ID = Z78451.1, length 730, with 5 features\n",
      "index 82, ID = Z78450.1, length 706, with 5 features\n",
      "index 83, ID = Z78449.1, length 744, with 5 features\n",
      "index 84, ID = Z78448.1, length 742, with 5 features\n",
      "index 85, ID = Z78447.1, length 694, with 5 features\n",
      "index 86, ID = Z78446.1, length 712, with 5 features\n",
      "index 87, ID = Z78445.1, length 715, with 5 features\n",
      "index 88, ID = Z78444.1, length 688, with 5 features\n",
      "index 89, ID = Z78443.1, length 784, with 5 features\n",
      "index 90, ID = Z78442.1, length 721, with 5 features\n",
      "index 91, ID = Z78441.1, length 703, with 5 features\n",
      "index 92, ID = Z78440.1, length 744, with 5 features\n",
      "index 93, ID = Z78439.1, length 592, with 5 features\n"
     ]
    }
   ],
   "source": [
    "import urllib.request\n",
    "urllib.request.urlretrieve('https://raw.githubusercontent.com/biopython/biopython/master/Doc/examples/ls_orchid.gbk', 'ls_orchid.gbk')\n",
    "from Bio import SeqIO\n",
    "for index, record in enumerate(SeqIO.parse(\"ls_orchid.gbk\", \"genbank\")):\n",
    "    print(\"index %i, ID = %s, length %i, with %i features\"   #%s means print as string, %i print as interegager\n",
    "          % (index, record.id, len(record.seq), len(record.features)))"
   ]
  },
  {
   "cell_type": "code",
   "execution_count": null,
   "metadata": {
    "collapsed": true
   },
   "outputs": [],
   "source": []
  },
  {
   "cell_type": "code",
   "execution_count": null,
   "metadata": {
    "collapsed": true
   },
   "outputs": [],
   "source": []
  }
 ],
 "metadata": {
  "kernelspec": {
   "display_name": "Python 3",
   "language": "python",
   "name": "python3"
  },
  "language_info": {
   "codemirror_mode": {
    "name": "ipython",
    "version": 3
   },
   "file_extension": ".py",
   "mimetype": "text/x-python",
   "name": "python",
   "nbconvert_exporter": "python",
   "pygments_lexer": "ipython3",
   "version": "3.6.3"
  }
 },
 "nbformat": 4,
 "nbformat_minor": 2
}

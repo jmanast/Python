{
 "cells": [
  {
   "cell_type": "code",
   "execution_count": 37,
   "metadata": {},
   "outputs": [
    {
     "ename": "IndentationError",
     "evalue": "expected an indented block (<ipython-input-37-79178e75038e>, line 49)",
     "output_type": "error",
     "traceback": [
      "\u001b[1;36m  File \u001b[1;32m\"<ipython-input-37-79178e75038e>\"\u001b[1;36m, line \u001b[1;32m49\u001b[0m\n\u001b[1;33m    analysed_seq = ProteinAnalysis(my_seq)\u001b[0m\n\u001b[1;37m               ^\u001b[0m\n\u001b[1;31mIndentationError\u001b[0m\u001b[1;31m:\u001b[0m expected an indented block\n"
     ]
    }
   ],
   "source": [
    "from Bio import SeqIO\n",
    "from Bio.Data import CodonTable\n",
    "import pandas as pd\n",
    "from Bio.Alphabet import IUPAC\n",
    "from Bio.Seq import Seq\n",
    "from Bio.SeqUtils.ProtParam import ProteinAnalysis\n",
    "\n",
    "def get_sequences_from_file(fasta_fn): #here we are ignitiating the function get_sequence_from_file\n",
    "    sequence_data_dict = {}    #here we are creating a dictionary to hold keys and objects\n",
    "    for record in SeqIO.parse(fasta_fn, \"fasta\"):   #here is our for loop that will extract elements from SeqIO.parse record = fasta\n",
    "        description = record.description.split()#here the description provided by the FASTA file is split into peices, the defulat split will by white spaces\n",
    "        species_name = description[1] + \" \" + description[2] #here you are assigning species name to be description [1] + \"white space\" + Description [2]\n",
    "        sequence_data_dict[species_name] = record.seq  #here you are setting species_name as the key to dictionary, and that will return you that records sequence\n",
    "    return(sequence_data_dict)  #this will return the output of the for loop to the Dictionary\n",
    "\n",
    "\n",
    "\n",
    "\n",
    "\n",
    "cytb_seqs = get_sequences_from_file(\"penguins_cytb.fasta\") \n",
    "penguins_df = pd.read_csv(\"penguins_mass.csv\")\n",
    "species_list = list(penguins_df.species)\n",
    "penguins_MW_df = penguins_df.assign(Molecular_weight = 'NaN')\n",
    "penguins_new_columns_df = penguins_MW_df.assign(GC_content = 'NaN')\n",
    " \n",
    "\n",
    "def Clac_GC_Percent(row):\n",
    "    gc_percentage = 0 \n",
    "    for row in cytb_seqs(\"GC content\"):                  \n",
    "        g_count = 0\n",
    "        c_count = 0\n",
    "        for base in Seq:\n",
    "            if base is 'G':\n",
    "                g_count += 1\n",
    "            return(g_count)\n",
    "        for base in Seq:\n",
    "            if base is 'C':\n",
    "                c_count += 1\n",
    "            return(c_count)\n",
    "        gc_totalcount = g_count + c_count\n",
    "        gc_percentage = (gc_totalcount/len(Seq)) * 100\n",
    "        return(gc_percentage)\n",
    "        gc_percentage += 1\n",
    "        \n",
    "        \n",
    "def compute_molecular_weight(aa_seq):\n",
    "    compute_molecular = 0 \n",
    "    for row in penguins_MW_df(\"Molecular_weight\"):\n",
    "    analysed_seq = ProteinAnalysis(my_seq)\n",
    "    analysed_seq.molecular_weight()\n",
    "    compute_molecular = analysed_seq.molecular_weight()\n",
    "    compute_molecular += 1\n",
    "    return(compute_molecular)  \n",
    "\n",
    "\n",
    "cytb_seqs_GC_df = Clac_GC_Percent(cytb_seqs)\n",
    "  \n",
    "    \n",
    "\n",
    "\n"
   ]
  },
  {
   "cell_type": "code",
   "execution_count": 40,
   "metadata": {},
   "outputs": [
    {
     "data": {
      "text/plain": [
       "['Aptenodytes forsteri',\n",
       " 'Aptenodytes patagonicus',\n",
       " 'Eudyptes chrysocome',\n",
       " 'Eudyptes chrysolophus',\n",
       " 'Eudyptes sclateri',\n",
       " 'Eudyptula minor',\n",
       " 'Pygoscelis adeliae',\n",
       " 'Pygoscelis antarctica',\n",
       " 'Pygoscelis papua',\n",
       " 'Spheniscus demersus',\n",
       " 'Spheniscus humboldti',\n",
       " 'Spheniscus magellanicus']"
      ]
     },
     "execution_count": 40,
     "metadata": {},
     "output_type": "execute_result"
    }
   ],
   "source": [
    "species_list"
   ]
  },
  {
   "cell_type": "code",
   "execution_count": null,
   "metadata": {
    "collapsed": true
   },
   "outputs": [],
   "source": []
  }
 ],
 "metadata": {
  "kernelspec": {
   "display_name": "Python 3",
   "language": "python",
   "name": "python3"
  },
  "language_info": {
   "codemirror_mode": {
    "name": "ipython",
    "version": 3
   },
   "file_extension": ".py",
   "mimetype": "text/x-python",
   "name": "python",
   "nbconvert_exporter": "python",
   "pygments_lexer": "ipython3",
   "version": "3.6.3"
  }
 },
 "nbformat": 4,
 "nbformat_minor": 2
}

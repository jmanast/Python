{
 "cells": [
  {
   "cell_type": "code",
   "execution_count": 4,
   "metadata": {},
   "outputs": [
    {
     "ename": "SyntaxError",
     "evalue": "invalid syntax (<ipython-input-4-b90e64dde309>, line 30)",
     "output_type": "error",
     "traceback": [
      "\u001b[1;36m  File \u001b[1;32m\"<ipython-input-4-b90e64dde309>\"\u001b[1;36m, line \u001b[1;32m30\u001b[0m\n\u001b[1;33m    if base is 'G' or base 'C':\u001b[0m\n\u001b[1;37m                             ^\u001b[0m\n\u001b[1;31mSyntaxError\u001b[0m\u001b[1;31m:\u001b[0m invalid syntax\n"
     ]
    }
   ],
   "source": [
    "from Bio import SeqIO\n",
    "from Bio.Data import CodonTable\n",
    "import pandas as pd\n",
    "from Bio.Alphabet import IUPAC\n",
    "from Bio.Seq import Seq\n",
    "from Bio.SeqUtils.ProtParam import ProteinAnalysis\n",
    "\n",
    "def get_sequences_from_file(fasta_fn): #here we are ignitiating the function get_sequence_from_file\n",
    "    sequence_data_dict = {}    #here we are creating a dictionary to hold keys and objects\n",
    "    for record in SeqIO.parse(fasta_fn, \"fasta\"):   #here is our for loop that will extract elements from SeqIO.parse record = fasta\n",
    "                             #the SeqIO.parse makes the function recognize it as a fasta\n",
    "        description = record.description.split()#here the description (biopython) provided by the FASTA file is split into peices, the defulat split will by white spaces\n",
    "        species_name = description[1] + \" \" + description[2] #here you are assigning species name to be description [1] + \"white space\" + Description [2]\n",
    "        sequence_data_dict[species_name] = record.seq  #here you are setting species_name as the key to dictionary, and that will return you that records sequence\n",
    "    return(sequence_data_dict)  #this will return the output of the for loop to the Dictionary\n",
    "\n",
    "\n",
    "\n",
    "\n",
    "\n",
    "cytb_seqs = get_sequences_from_file(\"penguins_cytb.fasta\") \n",
    "penguins_df = pd.read_csv(\"penguins_mass.csv\")\n",
    "species_list = list(penguins_df.species)\n",
    "penguins_MW_df = penguins_df.assign(Molecular_weight = 'NaN')\n",
    "penguins_new_columns_df = penguins_MW_df.assign(GC_content = 'NaN')\n",
    " \n",
    "def Clac_GC_Percent(row):\n",
    "    count = 0\n",
    "    for base in seq:\n",
    "        if base is 'G' or base 'C':\n",
    "            count += 1\n",
    "    \n",
    "    \n",
    "    \n",
    "def Clac_GC_Percent(row):\n",
    "    gc_percentage = 0 \n",
    "    for row in cytb_seqs(\"GC content\"):                  \n",
    "        g_count = 0\n",
    "        c_count = 0\n",
    "        for base in Seq:\n",
    "            if base is 'G':\n",
    "                g_count += 1\n",
    "            return(g_count)\n",
    "        for base in Seq:\n",
    "            if base is 'C':\n",
    "                c_count += 1\n",
    "            return(c_count)\n",
    "        gc_totalcount = g_count + c_count\n",
    "        gc_percentage = (gc_totalcount/len(Seq)) * 100\n",
    "        return(gc_percentage)\n",
    "        gc_percentage += 1\n",
    "        \n",
    "        \n",
    "def compute_molecular_weight(aa_seq):\n",
    "    compute_molecular = 0 \n",
    "    for row in penguins_MW_df(\"Molecular_weight\"):\n",
    "    analysed_seq = ProteinAnalysis(my_seq)\n",
    "    analysed_seq.molecular_weight()\n",
    "    compute_molecular = analysed_seq.molecular_weight()\n",
    "    compute_molecular += 1\n",
    "    return(compute_molecular)  \n",
    "\n",
    "\n",
    "cytb_seqs_GC_df = Clac_GC_Percent(cytb_seqs)\n",
    "  \n",
    "    \n",
    "\n",
    "\n"
   ]
  },
  {
   "cell_type": "code",
   "execution_count": 5,
   "metadata": {},
   "outputs": [
    {
     "ename": "NameError",
     "evalue": "name 'cytb_seqs' is not defined",
     "output_type": "error",
     "traceback": [
      "\u001b[1;31m---------------------------------------------------------------------------\u001b[0m",
      "\u001b[1;31mNameError\u001b[0m                                 Traceback (most recent call last)",
      "\u001b[1;32m<ipython-input-5-4a86a1057cbd>\u001b[0m in \u001b[0;36m<module>\u001b[1;34m()\u001b[0m\n\u001b[1;32m----> 1\u001b[1;33m \u001b[0mcytb_seqs\u001b[0m\u001b[1;33m\u001b[0m\u001b[0m\n\u001b[0m",
      "\u001b[1;31mNameError\u001b[0m: name 'cytb_seqs' is not defined"
     ]
    }
   ],
   "source": [
    "cytb_seqs"
   ]
  },
  {
   "cell_type": "code",
   "execution_count": null,
   "metadata": {
    "collapsed": true
   },
   "outputs": [],
   "source": []
  }
 ],
 "metadata": {
  "kernelspec": {
   "display_name": "Python 3",
   "language": "python",
   "name": "python3"
  },
  "language_info": {
   "codemirror_mode": {
    "name": "ipython",
    "version": 3
   },
   "file_extension": ".py",
   "mimetype": "text/x-python",
   "name": "python",
   "nbconvert_exporter": "python",
   "pygments_lexer": "ipython3",
   "version": "3.6.3"
  }
 },
 "nbformat": 4,
 "nbformat_minor": 2
}
